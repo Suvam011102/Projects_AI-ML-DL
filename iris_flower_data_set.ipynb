{
 "cells": [
  {
   "cell_type": "markdown",
   "id": "30f287c1-bef4-4626-aa2e-bc395ef77aba",
   "metadata": {},
   "source": [
    "## Iris Prediction Model"
   ]
  },
  {
   "cell_type": "code",
   "execution_count": 1,
   "id": "f1d0f7a8-74d4-4c4c-b263-357d23fed849",
   "metadata": {},
   "outputs": [
    {
     "name": "stdout",
     "output_type": "stream",
     "text": [
      "[5.1 3.5 1.4 0.2] 0\n",
      "[0]\n"
     ]
    }
   ],
   "source": [
    "#Loading Required Modules\n",
    "from sklearn import datasets\n",
    "from sklearn.neighbors import KNeighborsClassifier\n",
    "\n",
    "#Loading Datasets\n",
    "iris = datasets.load_iris()\n",
    "iris_x_features = iris.data\n",
    "iris_y_labels = iris.target\n",
    "print(iris_x_features[0],iris_y_labels[0])\n",
    "\n",
    "# Attribute Information:\n",
    "#     - sepal length in cm\n",
    "#     - sepal width in cm\n",
    "#     - petal length in cm\n",
    "#     - petal width in cm\n",
    "#     - class:\n",
    "#             - Iris-Setosa (0)\n",
    "#             - Iris-Versicolour (1)\n",
    "#             - Iris-Virginica (2)\n",
    "# done using print(iris.DESCR)\n",
    "\n",
    "#Train Classifier\n",
    "clf = KNeighborsClassifier()\n",
    "clf.fit(iris_x_features,iris_y_labels)\n",
    "\n",
    "preds = clf.predict([[1,1,1,1]])\n",
    "print(preds)"
   ]
  }
 ],
 "metadata": {
  "kernelspec": {
   "display_name": "Python 3 (ipykernel)",
   "language": "python",
   "name": "python3"
  },
  "language_info": {
   "codemirror_mode": {
    "name": "ipython",
    "version": 3
   },
   "file_extension": ".py",
   "mimetype": "text/x-python",
   "name": "python",
   "nbconvert_exporter": "python",
   "pygments_lexer": "ipython3",
   "version": "3.12.4"
  }
 },
 "nbformat": 4,
 "nbformat_minor": 5
}
